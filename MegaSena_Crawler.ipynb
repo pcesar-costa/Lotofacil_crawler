{
 "cells": [
  {
   "cell_type": "code",
   "execution_count": null,
   "metadata": {
    "scrolled": false
   },
   "outputs": [],
   "source": [
    "from selenium import webdriver\n",
    "from selenium.webdriver.common.keys import Keys\n",
    "from selenium.webdriver.common.action_chains import ActionChains\n",
    "from selenium.webdriver.common.by import By\n",
    "from selenium.webdriver.support.ui import WebDriverWait, Select\n",
    "from selenium.webdriver.support import expected_conditions as EC\n",
    "import json\n",
    "import time\n",
    "from selenium.webdriver.chrome.options import Options\n",
    "opts = Options()\n",
    "opts.add_argument(\"user-agent=[Mozilla/5.0 (Windows NT 6.1) AppleWebKit/537.36 (KHTML, like Gecko) Chrome/41.0.2228.0 Safari/537.36]\")\n",
    "\n",
    "browser = webdriver.Chrome()\n",
    "\n",
    "browser.get(\"http://loterias.caixa.gov.br/wps/portal/loterias/landing/megasena/\") \n",
    "time.sleep(5)\n",
    "\n",
    "resultados = [{'Concurso':'', 'Numeros':[]}]\n",
    "\n",
    "while True:\n",
    "    concurso = (browser.find_element_by_xpath('//*[@id=\"conteudoresultado\"]/div[1]/div/h2/span')).text\n",
    "    numeros = []\n",
    "    i = 1\n",
    "    while i <= 6:\n",
    "        numeros.append(int((browser.find_element_by_xpath('//*[@id=\"ulDezenas\"]/li['+str(i)+']')).text))\n",
    "        i+=1\n",
    "        \n",
    "    resultado = {}\n",
    "    resultado['Concurso'] = concurso\n",
    "    resultado['Numeros'] = numeros\n",
    "    \n",
    "    if (resultados[-1]['Concurso'] != resultado['Concurso']):\n",
    "        resultados.append(resultado)\n",
    "        print(resultado)\n",
    "        #with open('data.json', 'a+') as fp:\n",
    "        #    json.dump(resultado, fp, indent=0)\n",
    "            #fp.append(resultado)\n",
    "    try:\n",
    "        next_page = browser.find_element_by_xpath('//*[@id=\"conteudoresultado\"]/div[1]/div/div[2]/ul/li[2]/a')\n",
    "        next_page.click()\n",
    "        time.sleep(3)\n",
    "    except:\n",
    "        print(\"'Voltar' not found\")\n",
    "\n",
    "with open('megasena_data2.json', 'w') as fp:\n",
    "    json.dump(resultados, fp, indent=None)\n",
    "\n",
    "print('Done.')"
   ]
  }
 ],
 "metadata": {
  "kernelspec": {
   "display_name": "Python 3",
   "language": "python",
   "name": "python3"
  },
  "language_info": {
   "codemirror_mode": {
    "name": "ipython",
    "version": 3
   },
   "file_extension": ".py",
   "mimetype": "text/x-python",
   "name": "python",
   "nbconvert_exporter": "python",
   "pygments_lexer": "ipython3",
   "version": "3.7.5"
  }
 },
 "nbformat": 4,
 "nbformat_minor": 2
}
